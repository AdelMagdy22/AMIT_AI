{
 "cells": [
  {
   "cell_type": "markdown",
   "metadata": {},
   "source": [
    "## Sum All Items in a list"
   ]
  },
  {
   "cell_type": "code",
   "execution_count": 7,
   "metadata": {},
   "outputs": [
    {
     "name": "stdout",
     "output_type": "stream",
     "text": [
      "10\n"
     ]
    }
   ],
   "source": [
    "lst = list(input(\"Enter The list\").split(\" \"))\n",
    "sum = 0\n",
    "\n",
    "for num in lst:\n",
    "    num = int(num)\n",
    "    sum += num\n",
    "\n",
    "print(sum)"
   ]
  },
  {
   "cell_type": "markdown",
   "metadata": {},
   "source": [
    "## Write a Python program to get the smallest number from a list"
   ]
  },
  {
   "cell_type": "code",
   "execution_count": 9,
   "metadata": {},
   "outputs": [
    {
     "name": "stdout",
     "output_type": "stream",
     "text": [
      "1\n"
     ]
    }
   ],
   "source": [
    "lst = list(input(\"Enter The list\").split(\" \"))\n",
    "lst.sort()\n",
    "print(lst[0])"
   ]
  },
  {
   "cell_type": "code",
   "execution_count": 10,
   "metadata": {},
   "outputs": [
    {
     "name": "stdout",
     "output_type": "stream",
     "text": [
      "0\n"
     ]
    }
   ],
   "source": [
    "# Another way\n",
    "\n",
    "lst = list(input(\"Enter The list\").split(\" \"))\n",
    "\n",
    "minimum = pow(10, 6) # any lagre number\n",
    "for num in lst:\n",
    "    num = int(num)\n",
    "    minimum = min(minimum, num)\n",
    "\n",
    "print(minimum)"
   ]
  },
  {
   "cell_type": "markdown",
   "metadata": {},
   "source": [
    "## Write a Python program to count the number of strings from a given list of strings"
   ]
  },
  {
   "cell_type": "code",
   "execution_count": 2,
   "metadata": {},
   "outputs": [
    {
     "name": "stdout",
     "output_type": "stream",
     "text": [
      "1\n"
     ]
    }
   ],
   "source": [
    "def count_strs(lst):\n",
    "    count = 0\n",
    "    for item in lst:\n",
    "        if isinstance(item, str):  # Check if the element is a string\n",
    "            count += 1\n",
    "    return count\n",
    "\n",
    "lst = ['hello', 123, 'world', 45.67, 'python', True]\n",
    "res = count_strs(lst)\n",
    "print(res)"
   ]
  },
  {
   "cell_type": "markdown",
   "metadata": {},
   "source": [
    "## Write a Python program to check if a set is a subset of another set"
   ]
  },
  {
   "cell_type": "code",
   "execution_count": 19,
   "metadata": {},
   "outputs": [
    {
     "name": "stdout",
     "output_type": "stream",
     "text": [
      "{'1', '2'}\n",
      "{'1', '3', '2'}\n",
      "s1 is a subset of s2\n"
     ]
    }
   ],
   "source": [
    "s1 = set(input(\"Enter set 1\").split(\" \"))\n",
    "s2 = set(input(\"Enter set 2\").split(\" \"))\n",
    "\n",
    "\n",
    "if s1.issubset(s2):\n",
    "    print(\"s1 is a subset of s2\")\n",
    "elif s2.issubset(s1):\n",
    "    print(\"s2 is a subset of s1\")\n",
    "else:\n",
    "    print(\"there is no set that subset of another\")"
   ]
  },
  {
   "cell_type": "markdown",
   "metadata": {},
   "source": [
    "## Write a Python program to remove all elements from a given set"
   ]
  },
  {
   "cell_type": "code",
   "execution_count": 24,
   "metadata": {},
   "outputs": [
    {
     "name": "stdout",
     "output_type": "stream",
     "text": [
      "set()\n"
     ]
    }
   ],
   "source": [
    "s = set(input(\"Enter set 1\").split(\" \"))\n",
    "s.clear()\n",
    "print(s)"
   ]
  },
  {
   "cell_type": "markdown",
   "metadata": {},
   "source": [
    "## Write a Python program to unzip a list of tuples into individual lists"
   ]
  },
  {
   "cell_type": "code",
   "execution_count": 4,
   "metadata": {},
   "outputs": [
    {
     "name": "stdout",
     "output_type": "stream",
     "text": [
      "[[1, 3, 5], [2, 4, 6]]\n"
     ]
    }
   ],
   "source": [
    "lst = [(1, 2), (3, 4), (5, 6)]\n",
    "\n",
    "unzipped_lists = list(zip(*lst))\n",
    "\n",
    "unzipped = [list(t) for t in unzipped_lists]\n",
    "\n",
    "print(unzipped)\n"
   ]
  },
  {
   "cell_type": "markdown",
   "metadata": {},
   "source": [
    "## Write a Python program to reverse a tuple."
   ]
  },
  {
   "cell_type": "code",
   "execution_count": 5,
   "metadata": {},
   "outputs": [
    {
     "name": "stdout",
     "output_type": "stream",
     "text": [
      "(3, 9, 6, 3, 5, 3, 1)\n"
     ]
    }
   ],
   "source": [
    "t = (1, 3 , 5 ,3, 6, 9, 3)\n",
    "\n",
    "lst = list(t)\n",
    "lst.reverse()\n",
    "\n",
    "t = tuple(lst)\n",
    "\n",
    "print(t)\n"
   ]
  }
 ],
 "metadata": {
  "kernelspec": {
   "display_name": "Python 3",
   "language": "python",
   "name": "python3"
  },
  "language_info": {
   "codemirror_mode": {
    "name": "ipython",
    "version": 3
   },
   "file_extension": ".py",
   "mimetype": "text/x-python",
   "name": "python",
   "nbconvert_exporter": "python",
   "pygments_lexer": "ipython3",
   "version": "3.12.4"
  }
 },
 "nbformat": 4,
 "nbformat_minor": 2
}
