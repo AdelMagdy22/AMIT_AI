{
 "cells": [
  {
   "cell_type": "markdown",
   "metadata": {},
   "source": [
    "## 1. Implement Fibonacci series using recursion."
   ]
  },
  {
   "cell_type": "code",
   "execution_count": 3,
   "metadata": {},
   "outputs": [
    {
     "name": "stdout",
     "output_type": "stream",
     "text": [
      "Fibonacci series up to 10:\n",
      "0 1 1 2 3 5 8 13 21 34 \n",
      "\n"
     ]
    }
   ],
   "source": [
    "def fibonacci(n):\n",
    "    if n <= 1:\n",
    "        return n\n",
    "    else:\n",
    "        return fibonacci(n-1) + fibonacci(n-2)\n",
    "\n",
    "\n",
    "fib_num = input(\"Enter The number\")\n",
    "fib_num = int(fib_num)\n",
    "print(f\"Fibonacci series up to {fib_num}:\")\n",
    "for i in range(fib_num):\n",
    "    print(fibonacci(i), end=\" \")\n",
    "print(\"\\n\")"
   ]
  },
  {
   "cell_type": "markdown",
   "metadata": {},
   "source": [
    "## 2. Write a Python program to find all the unique words and count the frequency of occurrence from a given list of strings.\n"
   ]
  },
  {
   "cell_type": "code",
   "execution_count": 24,
   "metadata": {},
   "outputs": [
    {
     "name": "stdout",
     "output_type": "stream",
     "text": [
      "Word frequencies:\n",
      "{'apple': 3, 'orange': 2, 'banana': 3}\n",
      "\n",
      "\n"
     ]
    }
   ],
   "source": [
    "def word_count(strings):\n",
    "    word_freq = {}\n",
    "    for sentence in strings:\n",
    "        words = sentence.split()\n",
    "        for word in words:\n",
    "            word_freq[word] = word_freq.get(word, 0) + 1\n",
    "    return word_freq\n",
    "\n",
    "sentences = [\"apple orange banana\", \"apple banana\", \"orange banana apple\"]\n",
    "print(\"Word frequencies:\")\n",
    "print(word_count(sentences))\n",
    "print(\"\\n\")"
   ]
  },
  {
   "cell_type": "markdown",
   "metadata": {},
   "source": [
    "## 3. Write a Python program that finds all pairs of elements in a list whose sum is equal to a given value.\n"
   ]
  },
  {
   "cell_type": "code",
   "execution_count": 10,
   "metadata": {},
   "outputs": [
    {
     "name": "stdout",
     "output_type": "stream",
     "text": [
      "Pairs with sum 10: [(4, 6), (3, 7), (2, 8), (1, 9)]\n",
      "\n",
      "\n"
     ]
    }
   ],
   "source": [
    "def find_pairs_with_sum(lst, target_sum):\n",
    "    pairs = []\n",
    "    seen = set()\n",
    "    for num in lst:\n",
    "        complement = target_sum - num\n",
    "        if complement in seen:\n",
    "            pairs.append((complement, num))\n",
    "        seen.add(num)\n",
    "    return pairs\n",
    "\n",
    "numbers = list(input(\"Enter the list Of nunbers\").split(\" \"))\n",
    "numbers = list(map(int, numbers))\n",
    "\n",
    "target = input(\"Enter The value that sums of nums\")\n",
    "target = int(target)\n",
    "print(f\"Pairs with sum {target}: {find_pairs_with_sum(numbers, target)}\")\n",
    "print(\"\\n\")"
   ]
  },
  {
   "cell_type": "markdown",
   "metadata": {},
   "source": [
    "## 4. Write a Python program to find the two numbers whose product is maximum among all the pairs in a given list of numbers.\n"
   ]
  },
  {
   "cell_type": "code",
   "execution_count": 12,
   "metadata": {},
   "outputs": [
    {
     "name": "stdout",
     "output_type": "stream",
     "text": [
      "Pair with maximum product: (7, 8)\n",
      "\n",
      "\n"
     ]
    }
   ],
   "source": [
    "def max_product_pair(lst):\n",
    "    max_product = float('-inf')\n",
    "    max_pair = None\n",
    "    n = len(lst)\n",
    "    for i in range(n):\n",
    "        for j in range(i + 1, n):\n",
    "            product = lst[i] * lst[j]\n",
    "            if product > max_product:\n",
    "                max_product = product\n",
    "                max_pair = (lst[i], lst[j])\n",
    "    return max_pair\n",
    "\n",
    "numbers = list(map(int, input(\"Enter the list Of nunbers\").split(\" \")))\n",
    "print(f\"Pair with maximum product: {max_product_pair(numbers)}\")\n",
    "print(\"\\n\")"
   ]
  },
  {
   "cell_type": "markdown",
   "metadata": {},
   "source": [
    "## 5. Write a Python function that takes a number as a parameter and checks whether the number is prime or not.\n"
   ]
  },
  {
   "cell_type": "code",
   "execution_count": 13,
   "metadata": {},
   "outputs": [
    {
     "name": "stdout",
     "output_type": "stream",
     "text": [
      "Is 11 a prime number? True\n",
      "\n",
      "\n"
     ]
    }
   ],
   "source": [
    "def is_prime(n):\n",
    "    if n <= 1:\n",
    "        return False\n",
    "    if n <= 3:\n",
    "        return True\n",
    "    if n % 2 == 0 or n % 3 == 0:\n",
    "        return False\n",
    "    i = 5\n",
    "    while i * i <= n:\n",
    "        if n % i == 0 or n % (i + 2) == 0:\n",
    "            return False\n",
    "        i += 6\n",
    "    return True\n",
    "\n",
    "\n",
    "num = input(\"Enter Num\")\n",
    "num = int(num)\n",
    "print(f\"Is {num} a prime number? {is_prime(num)}\")\n",
    "print(\"\\n\")"
   ]
  },
  {
   "cell_type": "markdown",
   "metadata": {},
   "source": [
    "## 6. Write a Python function to print the even numbers from a given list.\n"
   ]
  },
  {
   "cell_type": "code",
   "execution_count": null,
   "metadata": {},
   "outputs": [],
   "source": [
    "def print_even_numbers(lst):\n",
    "    even_numbers = [num for num in lst if num % 2 == 0]\n",
    "    return even_numbers\n",
    "\n",
    "numbers = list(map(int, input(\"Enter the list Of nunbers\").split(\" \")))\n",
    "print(f\"Even numbers: {print_even_numbers(numbers)}\")\n",
    "print(\"\\n\")"
   ]
  },
  {
   "cell_type": "markdown",
   "metadata": {},
   "source": [
    "## 7. Write a function that will take a given string and reverse the order of words.\n"
   ]
  },
  {
   "cell_type": "code",
   "execution_count": 23,
   "metadata": {},
   "outputs": [
    {
     "name": "stdout",
     "output_type": "stream",
     "text": [
      "Reversed: ledA\n",
      "\n",
      "\n"
     ]
    }
   ],
   "source": [
    "def reverse_words(s):\n",
    "    return s[::-1]\n",
    "\n",
    "sentence = input(\"Enter String\")\n",
    "print(f\"Reversed: {reverse_words(sentence)}\")\n",
    "print(\"\\n\")"
   ]
  },
  {
   "cell_type": "markdown",
   "metadata": {},
   "source": [
    "## 8. Given an integer x, return true if x is a palindrome, and false otherwise.\n"
   ]
  },
  {
   "cell_type": "code",
   "execution_count": 17,
   "metadata": {},
   "outputs": [
    {
     "name": "stdout",
     "output_type": "stream",
     "text": [
      "Is 121 a palindrome? True\n",
      "\n",
      "\n"
     ]
    }
   ],
   "source": [
    "def is_palindrome_number(x):\n",
    "    s = str(x)\n",
    "    return s == s[::-1]\n",
    "\n",
    "x = input(\"Enter Number\")\n",
    "print(f\"Is {x} a palindrome? {is_palindrome_number(x)}\")\n",
    "print(\"\\n\")"
   ]
  },
  {
   "cell_type": "markdown",
   "metadata": {},
   "source": [
    "## 9. Write a Python function that checks whether a passed string is a palindrome or not.\n"
   ]
  },
  {
   "cell_type": "code",
   "execution_count": 22,
   "metadata": {},
   "outputs": [
    {
     "name": "stdout",
     "output_type": "stream",
     "text": [
      "Is 'racecar' a palindrome? True\n",
      "\n",
      "\n"
     ]
    }
   ],
   "source": [
    "def is_palindrome_string(s):\n",
    "    s = s.lower().replace(\" \", \"\")\n",
    "    return s == s[::-1]\n",
    "\n",
    "s = input(\"Enter String\")\n",
    "print(f\"Is '{s}' a palindrome? {is_palindrome_string(s)}\")\n",
    "print(\"\\n\")"
   ]
  },
  {
   "cell_type": "markdown",
   "metadata": {},
   "source": [
    "## 10. Write a Python function to create and print a list where the values are the squares of numbers between 1 and 30 (both included)."
   ]
  },
  {
   "cell_type": "code",
   "execution_count": 20,
   "metadata": {},
   "outputs": [
    {
     "name": "stdout",
     "output_type": "stream",
     "text": [
      "Squares of numbers from 1 to 30:\n",
      "[1, 4, 9, 16, 25, 36, 49, 64, 81, 100, 121, 144, 169, 196, 225, 256, 289, 324, 361, 400, 441, 484, 529, 576, 625, 676, 729, 784, 841, 900]\n",
      "\n",
      "\n"
     ]
    }
   ],
   "source": [
    "def squares_list():\n",
    "    return [i**2 for i in range(1, 31)]\n",
    "\n",
    "print(\"Squares of numbers from 1 to 30:\")\n",
    "print(squares_list())\n",
    "print(\"\\n\")"
   ]
  },
  {
   "cell_type": "markdown",
   "metadata": {},
   "source": [
    "## 11. Write a Python function to generate all permutations of a list.\n"
   ]
  },
  {
   "cell_type": "code",
   "execution_count": 19,
   "metadata": {},
   "outputs": [
    {
     "name": "stdout",
     "output_type": "stream",
     "text": [
      "Permutations of the list:\n",
      "[(1, 2, 3), (1, 3, 2), (2, 1, 3), (2, 3, 1), (3, 1, 2), (3, 2, 1)]\n",
      "\n",
      "\n"
     ]
    }
   ],
   "source": [
    "from itertools import permutations\n",
    "\n",
    "def generate_permutations(lst):\n",
    "    return list(permutations(lst))\n",
    "\n",
    "numbers = [1, 2, 3]\n",
    "print(\"Permutations of the list:\")\n",
    "print(generate_permutations(numbers))\n",
    "print(\"\\n\")\n"
   ]
  },
  {
   "cell_type": "markdown",
   "metadata": {},
   "source": [
    "## 12. Write a Python program to access a function inside a function."
   ]
  },
  {
   "cell_type": "code",
   "execution_count": 18,
   "metadata": {},
   "outputs": [
    {
     "name": "stdout",
     "output_type": "stream",
     "text": [
      "Result of inner function: 15\n"
     ]
    }
   ],
   "source": [
    "def outer_function(x):\n",
    "    return lambda y: x + y\n",
    "\n",
    "adder = outer_function(10)\n",
    "print(f\"Result of inner function: {adder(5)}\")\n"
   ]
  }
 ],
 "metadata": {
  "kernelspec": {
   "display_name": "base",
   "language": "python",
   "name": "python3"
  },
  "language_info": {
   "codemirror_mode": {
    "name": "ipython",
    "version": 3
   },
   "file_extension": ".py",
   "mimetype": "text/x-python",
   "name": "python",
   "nbconvert_exporter": "python",
   "pygments_lexer": "ipython3",
   "version": "3.12.4"
  }
 },
 "nbformat": 4,
 "nbformat_minor": 2
}
