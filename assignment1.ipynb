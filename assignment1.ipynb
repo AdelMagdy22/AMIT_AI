{
 "cells": [
  {
   "cell_type": "markdown",
   "metadata": {},
   "source": [
    "# Define a function that applies fibonacchi using recursion\n",
    "\n",
    "## Example\n",
    "Input: 10\n",
    "\n",
    "Output: [0, 1, 1, 2, 3, 5, 8, 13, 21, 34]"
   ]
  },
  {
   "cell_type": "code",
   "execution_count": 4,
   "metadata": {},
   "outputs": [
    {
     "name": "stdout",
     "output_type": "stream",
     "text": [
      "[0, 1, 1, 2, 3, 5, 8, 13, 21, 34]\n"
     ]
    }
   ],
   "source": [
    "# Write your answer here\n",
    "\n",
    "def fib(num, lst):\n",
    "    if num == 0:\n",
    "        return 0\n",
    "    elif num == 1:\n",
    "        lst[1] = 1\n",
    "        return 1\n",
    "    else:\n",
    "        if lst[num - 1] == 0:\n",
    "            lst[num - 1] = fib(num - 1, lst)\n",
    "        if lst[num - 2] == 0:\n",
    "            lst[num - 2] = fib(num - 2, lst)\n",
    "        lst[num] = lst[num - 1] + lst[num - 2]\n",
    "        return lst[num]\n",
    "\n",
    "num = int(input(\"Enter number\"))\n",
    "\n",
    "l = [0] * (num)\n",
    "\n",
    "fib(num - 1, l)\n",
    "\n",
    "print(l)"
   ]
  },
  {
   "cell_type": "markdown",
   "metadata": {},
   "source": [
    "# Write a Python program to remove an item from a given set\n",
    "\n",
    "## Example\n",
    "my_set: {1, 2, 3, 4, 5}\n",
    "\n",
    "Output: {1, 2, 4, 5}"
   ]
  },
  {
   "cell_type": "code",
   "execution_count": 5,
   "metadata": {},
   "outputs": [
    {
     "name": "stdout",
     "output_type": "stream",
     "text": [
      "{'2', '4', '1', '5'}\n"
     ]
    }
   ],
   "source": [
    "# Write your answer here\n",
    "\n",
    "s = set(input(\"Enter the set\").split(\" \"))\n",
    "r = input(\"Enter item to remove\")\n",
    "\n",
    "lst = list(s)\n",
    "\n",
    "s.remove(r)\n",
    "\n",
    "print(s)"
   ]
  },
  {
   "cell_type": "markdown",
   "metadata": {},
   "source": [
    "# Write a Python program to removes multiple items from a given set\n",
    "\n",
    "## Example\n",
    "my_set: {1, 2, 3, 4, 5}\n",
    "\n",
    "items to be removed: {1, 4}\n",
    "\n",
    "Output: {2, 3, 5}"
   ]
  },
  {
   "cell_type": "code",
   "execution_count": 12,
   "metadata": {},
   "outputs": [
    {
     "name": "stdout",
     "output_type": "stream",
     "text": [
      "{'5', '3', '2'}\n"
     ]
    }
   ],
   "source": [
    "# Write your answer here\n",
    "# input set and list seperated with space\n",
    "s = set(input(\"Enter the set\").split(\" \"))\n",
    "r = list(input(\"items to remove\").split(\" \"))\n",
    "l1 = list(s)\n",
    "\n",
    "for i in r:\n",
    "    if i in l1:\n",
    "        l1.remove(i)\n",
    "s = set(l1)\n",
    "print(s)"
   ]
  },
  {
   "cell_type": "markdown",
   "metadata": {},
   "source": [
    "# Write a Python program to find the index of an item in a tuple.\n",
    "\n",
    "## Example\n",
    "my_tuple: ('apple', 'banana', 'orange', 'grape', 'banana')\n",
    "\n",
    "index of 'orange' is: 2"
   ]
  },
  {
   "cell_type": "code",
   "execution_count": 15,
   "metadata": {},
   "outputs": [
    {
     "name": "stdout",
     "output_type": "stream",
     "text": [
      "1\n"
     ]
    }
   ],
   "source": [
    "# Write your answer here\n",
    "t = ('apple', 'banana', 'orange', 'grape', 'banana')\n",
    "\n",
    "item = input(\"Item to allocate\")\n",
    "\n",
    "print(t.index(item))"
   ]
  },
  {
   "cell_type": "markdown",
   "metadata": {},
   "source": [
    "# Ask user to input a sentence then convert this sentence into list of words. (hint: search for split function)\n",
    "\n",
    "## Example\n",
    "Input: \"Welcome to Amit\"\n",
    "\n",
    "Output: ['Welcome', 'to', 'Amit']"
   ]
  },
  {
   "cell_type": "code",
   "execution_count": 17,
   "metadata": {},
   "outputs": [
    {
     "name": "stdout",
     "output_type": "stream",
     "text": [
      "['Welcome', 'to', 'Amit']\n"
     ]
    }
   ],
   "source": [
    "# Write your answer here\n",
    "l = list(input(\"Enter the Sentence \").split(\" \"))\n",
    "print(l)"
   ]
  },
  {
   "cell_type": "markdown",
   "metadata": {},
   "source": [
    "# Take a string from the user and if it's Palindrome print \"Palindrome\" otherwise print \"Not a Palindrome\"\n",
    "\n",
    "A string is Palindrome if it's read the same from the left and right\n",
    "\n",
    "## Example\n",
    "Input: racecar\n",
    "\n",
    "Output: Palindrome"
   ]
  },
  {
   "cell_type": "code",
   "execution_count": 15,
   "metadata": {},
   "outputs": [
    {
     "name": "stdout",
     "output_type": "stream",
     "text": [
      "Palindrome\n"
     ]
    }
   ],
   "source": [
    "# Write your answer here\n",
    "\n",
    "s = input(\"Enter String \")\n",
    "\n",
    "b = False\n",
    "for i in range(len(l)):\n",
    "    if s == s[::-1]:\n",
    "        b = True\n",
    "\n",
    "\n",
    "print(\"Palindrome\") if b else print(\"Not a Palindrome\")\n"
   ]
  },
  {
   "cell_type": "markdown",
   "metadata": {},
   "source": [
    "# find the factorial of a number \n",
    "## Example\n",
    "(factorial of 5) = 5 * 4 * 3 * 2 * 1 = 120"
   ]
  },
  {
   "cell_type": "code",
   "execution_count": 28,
   "metadata": {},
   "outputs": [
    {
     "name": "stdout",
     "output_type": "stream",
     "text": [
      "120\n"
     ]
    }
   ],
   "source": [
    "# Write your answer here\n",
    "def fac(n):\n",
    "    if n == 0 or n == 1:\n",
    "        return 1\n",
    "    else:\n",
    "        return n * fac(n-1)\n",
    "\n",
    "n = int(input(\"Enter num to get Factorial\"))\n",
    "print(fac(n))"
   ]
  },
  {
   "cell_type": "markdown",
   "metadata": {},
   "source": [
    "# Create a List of Squares of Numbers from 1 to 10\n",
    "## Example\n",
    "Output: [1, 4, 9, 16, 25, 36, 49, 64, 81, 100]"
   ]
  },
  {
   "cell_type": "code",
   "execution_count": 31,
   "metadata": {},
   "outputs": [
    {
     "name": "stdout",
     "output_type": "stream",
     "text": [
      "[1, 4, 9, 16, 25, 36, 49, 64, 81, 100]\n"
     ]
    }
   ],
   "source": [
    "# Write your answer here\n",
    "l = [1,2 , 3, 4, 5 ,6, 7, 8, 9, 10]\n",
    "for i in range(10):\n",
    "    l[i] **= 2\n",
    "\n",
    "print(l)"
   ]
  },
  {
   "cell_type": "markdown",
   "metadata": {},
   "source": [
    "**Another Solution**"
   ]
  },
  {
   "cell_type": "code",
   "execution_count": 9,
   "metadata": {},
   "outputs": [],
   "source": [
    "# Write your answer here"
   ]
  },
  {
   "cell_type": "markdown",
   "metadata": {},
   "source": [
    "# Create a function that Calculates the Sum of Even Numbers in a List\n",
    "## Example\n",
    "numbers: [1, 2, 3, 4, 5, 6]\n",
    "\n",
    "Output: 12"
   ]
  },
  {
   "cell_type": "code",
   "execution_count": 40,
   "metadata": {},
   "outputs": [
    {
     "name": "stdout",
     "output_type": "stream",
     "text": [
      "12\n"
     ]
    }
   ],
   "source": [
    "# Write your answer here\n",
    "nums = [1, 2, 3, 4, 5, 6]\n",
    "sum = 0\n",
    "for num in nums:\n",
    "    if num % 2 == 0:\n",
    "        sum += num\n",
    "\n",
    "print(sum)"
   ]
  },
  {
   "cell_type": "markdown",
   "metadata": {},
   "source": [
    "# Create a function that takes a list as input and return reversed list\n",
    "\n",
    "## Example\n",
    "lst: [1, 2, 3]\n",
    "\n",
    "Output: [3, 2, 1]"
   ]
  },
  {
   "cell_type": "code",
   "execution_count": 47,
   "metadata": {},
   "outputs": [
    {
     "name": "stdout",
     "output_type": "stream",
     "text": [
      "['6', '5', '4', '3', '2', '1']\n"
     ]
    }
   ],
   "source": [
    "# Write your answer here\n",
    "lst = list(input(\"Enter The list \").split(' '))\n",
    "lst.reverse()\n",
    "print(lst)"
   ]
  },
  {
   "cell_type": "markdown",
   "metadata": {},
   "source": [
    "# create a function that calculates the median of a list of numbers (a median is the middle element in sorted list of numbers)\n",
    "\n",
    "## Example\n",
    "numbers: [5, 2, 7, 3, 1]\n",
    "\n",
    "Output: 3"
   ]
  },
  {
   "cell_type": "code",
   "execution_count": 30,
   "metadata": {},
   "outputs": [
    {
     "name": "stdout",
     "output_type": "stream",
     "text": [
      "['1', '2', '3', '4']\n",
      "<class 'int'>\n",
      "2.5\n"
     ]
    }
   ],
   "source": [
    "# Write your answer here\n",
    "def median(nums):\n",
    "    nums = list(map(int, nums))\n",
    "    nums.sort()\n",
    "    size = len(nums)\n",
    "    if size %2 == 0:\n",
    "        med = (nums[size // 2 - 1] + nums[size//2]) /2\n",
    "    else:\n",
    "        med = nums[size // 2]\n",
    "    return med\n",
    "\n",
    "numbers = list(input(\"Enter The list \").split(' '))\n",
    "print(numbers)\n",
    "med = median(numbers)\n",
    "print(med)"
   ]
  },
  {
   "cell_type": "markdown",
   "metadata": {},
   "source": [
    "# create a function that calculates the mode of a list of number (mode is the most frequent element in a list)\n",
    "\n",
    "## Example\n",
    "lst: [5, 2, 7, 3, 2, 1, 5]\n",
    "\n",
    "Output: 5"
   ]
  },
  {
   "cell_type": "code",
   "execution_count": 2,
   "metadata": {},
   "outputs": [
    {
     "name": "stdout",
     "output_type": "stream",
     "text": [
      "The mode is: 5\n"
     ]
    }
   ],
   "source": [
    "# Write your answer here\n",
    "def calculate_mode(numbers):\n",
    "    if not numbers:\n",
    "        return None  # Return None if the list is empty\n",
    "    \n",
    "    frequency = {}\n",
    "    \n",
    "    # Count the frequency of each number in the list\n",
    "    for number in numbers:\n",
    "        if number in frequency:\n",
    "            frequency[number] += 1\n",
    "        else:\n",
    "            frequency[number] = 1\n",
    "    \n",
    "    max_count = max(frequency.values())  # Find the highest frequency\n",
    "    \n",
    "    # Find all numbers with the highest frequency\n",
    "    modes = [number for number, count in frequency.items() if count == max_count]\n",
    "    \n",
    "    if len(modes) == 1:\n",
    "        return modes[0]  # Return the single mode\n",
    "    else:\n",
    "        return modes  # Return a list of modes if there's a tie\n",
    "\n",
    "# Example usage:\n",
    "numbers = [5, 2, 7, 3, 2, 1, 5]\n",
    "mode = calculate_mode(numbers)\n",
    "print(f\"The mode is: {mode}\")\n"
   ]
  },
  {
   "cell_type": "markdown",
   "metadata": {},
   "source": [
    "# Task: take the mark from the user and convert it to grade according to the following guidelines\n",
    "1. 85-100 A\n",
    "2. 75-85 B\n",
    "3. 65-75 C\n",
    "4. 50-65 D\n",
    "5. <50 F"
   ]
  },
  {
   "cell_type": "code",
   "execution_count": 33,
   "metadata": {},
   "outputs": [
    {
     "name": "stdout",
     "output_type": "stream",
     "text": [
      "A\n"
     ]
    }
   ],
   "source": [
    "# Write your answer here\n",
    "score = float(input(\"Enter The Grade \"))\n",
    "\n",
    "if score >= 85 and score <= 100:\n",
    "    print(\"A\")\n",
    "elif score >= 75  and score < 85:\n",
    "    print(\"B\")\n",
    "elif score >= 65  and score < 75:\n",
    "    print(\"C\")\n",
    "elif score >= 50  and score < 65:\n",
    "    print(\"D\")\n",
    "elif score < 50 and score >= 0:\n",
    "    print(\"F\")\n",
    "else:\n",
    "    print(\"invalid grade\")"
   ]
  },
  {
   "cell_type": "code",
   "execution_count": null,
   "metadata": {},
   "outputs": [],
   "source": []
  }
 ],
 "metadata": {
  "colab": {
   "collapsed_sections": [
    "IZoL1B1NNyIJ",
    "FxOzt49VXjjp",
    "tySmqn_NWn5v",
    "R0d1e5t-dcGx"
   ],
   "provenance": [],
   "toc_visible": true
  },
  "kernelspec": {
   "display_name": "Python 3 (ipykernel)",
   "language": "python",
   "name": "python3"
  },
  "language_info": {
   "codemirror_mode": {
    "name": "ipython",
    "version": 3
   },
   "file_extension": ".py",
   "mimetype": "text/x-python",
   "name": "python",
   "nbconvert_exporter": "python",
   "pygments_lexer": "ipython3",
   "version": "3.12.4"
  }
 },
 "nbformat": 4,
 "nbformat_minor": 1
}
